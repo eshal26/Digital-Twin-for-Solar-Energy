{
 "cells": [
  {
   "cell_type": "code",
   "execution_count": null,
   "id": "3dd270d8-744e-4443-bfcf-7ae91abadf58",
   "metadata": {},
   "outputs": [],
   "source": [
    "import pandas as pd"
   ]
  },
  {
   "cell_type": "code",
   "execution_count": null,
   "id": "406d9233-a400-43b4-952f-597990fef7be",
   "metadata": {},
   "outputs": [],
   "source": [
    "df_time = pd.read_csv('time_series_60min_singleindex.csv')"
   ]
  },
  {
   "cell_type": "code",
   "execution_count": null,
   "id": "b8dfb2fe-7a7b-42a2-96c5-88adbeb4242f",
   "metadata": {},
   "outputs": [],
   "source": [
    "df_time.head()"
   ]
  },
  {
   "cell_type": "code",
   "execution_count": null,
   "id": "7ce2301e-9186-45d6-a3b7-b98b4f4355f4",
   "metadata": {},
   "outputs": [],
   "source": [
    "df = df_time[['utc_timestamp', 'DE_solar_generation_actual']]\n",
    "df_solar = df.copy()\n",
    "df_solar.head()"
   ]
  },
  {
   "cell_type": "markdown",
   "id": "256922e0-ddff-4bb1-b32c-93b32647863d",
   "metadata": {},
   "source": [
    "taking data related to Germany"
   ]
  },
  {
   "cell_type": "code",
   "execution_count": null,
   "id": "c0ece344-cbfd-4bea-8ebd-3a889902b32e",
   "metadata": {},
   "outputs": [],
   "source": [
    "df_solar.rename(columns={'utc_timestamp': 'ds', 'DE_solar_generation_actual': 'y'}, inplace=True)\n",
    "df_solar.head()"
   ]
  },
  {
   "cell_type": "code",
   "execution_count": null,
   "id": "0526cb1d-add1-48a3-bece-e36bf46764e8",
   "metadata": {},
   "outputs": [],
   "source": [
    "df_solar['ds'] = pd.to_datetime(df_solar['ds']).dt.tz_localize(None)\n",
    "df_solar.head()"
   ]
  },
  {
   "cell_type": "code",
   "execution_count": null,
   "id": "ca635a40-8673-4ace-88a3-17c3c01fbb26",
   "metadata": {},
   "outputs": [],
   "source": [
    "df_solar['y'].interpolate(method='linear', inplace=True)\n",
    "df_solar.head()"
   ]
  },
  {
   "cell_type": "code",
   "execution_count": null,
   "id": "0adb2a41-2f82-42d7-b5b3-46f843070eab",
   "metadata": {},
   "outputs": [],
   "source": [
    "from prophet import Prophet\n",
    "\n",
    "# Train Prophet model\n",
    "model = Prophet()\n",
    "model.fit(df_solar)\n",
    "\n",
    "# Generate forecasts\n",
    "forecast = model.predict(df_solar)\n",
    "\n",
    "# Extract Prophet components\n",
    "df_features = forecast[['ds', 'yhat', 'trend', 'weekly', 'yearly', 'additive_terms']]\n"
   ]
  },
  {
   "cell_type": "code",
   "execution_count": null,
   "id": "8ec92e73-81f6-45d7-8153-9f215b3d73be",
   "metadata": {},
   "outputs": [],
   "source": [
    "df_timeseries = pd.merge(df_solar, df_features, on='ds', how='inner')\n"
   ]
  },
  {
   "cell_type": "code",
   "execution_count": null,
   "id": "e5a6a5e0-348a-4acc-9df3-70c9932df53a",
   "metadata": {},
   "outputs": [],
   "source": [
    "df_weather = pd.read_csv('weather_data.csv')\n",
    "\n",
    "columns = ['utc_timestamp', 'DE_temperature', \n",
    "                    'DE_radiation_direct_horizontal', 'DE_radiation_diffuse_horizontal']\n",
    "\n",
    "df_weather = df_weather[columns]\n",
    "df_weather.head()"
   ]
  },
  {
   "cell_type": "code",
   "execution_count": null,
   "id": "f6a7179c-abd1-4b5f-afe9-09031e04e8db",
   "metadata": {},
   "outputs": [],
   "source": [
    "df_pv = pd.read_csv('ninja_pv_wind_profiles_singleindex.csv')\n",
    "columns = ['time', 'DE_pv_national_current']\n",
    "\n",
    "df_pv = df_pv[columns]\n",
    "df_pv.head()"
   ]
  },
  {
   "cell_type": "code",
   "execution_count": null,
   "id": "3b3cbfea-0269-46fc-8379-3a01b75e71ca",
   "metadata": {},
   "outputs": [],
   "source": [
    "df_weather.rename(columns={'utc_timestamp': 'ds'}, inplace=True)\n",
    "df_weather['ds'] = pd.to_datetime(df_weather['ds']).dt.tz_localize(None)"
   ]
  },
  {
   "cell_type": "code",
   "execution_count": null,
   "id": "ac0e5414-8a71-4d29-a4b6-2b51bbdeb7e7",
   "metadata": {},
   "outputs": [],
   "source": [
    "df_pv.rename(columns={'time': 'ds'}, inplace=True)\n",
    "df_pv['ds'] = pd.to_datetime(df_pv['ds']).dt.tz_localize(None)"
   ]
  },
  {
   "cell_type": "code",
   "execution_count": null,
   "id": "a981f592-27ef-4721-9c09-3ee2dc6a634f",
   "metadata": {},
   "outputs": [],
   "source": [
    "df_merged = pd.merge(df_timeseries, df_weather, on='ds', how='inner')\n",
    "df_merged.head()"
   ]
  },
  {
   "cell_type": "code",
   "execution_count": null,
   "id": "8b2fe669-b447-4a9a-b0b8-743a877c5a23",
   "metadata": {},
   "outputs": [],
   "source": [
    "df = pd.merge(df_merged, df_pv, on='ds', how='inner')\n",
    "df.head()"
   ]
  },
  {
   "cell_type": "code",
   "execution_count": null,
   "id": "e07c6773-0553-45e0-b1c8-9f0e0237b6c7",
   "metadata": {},
   "outputs": [],
   "source": [
    "df.drop(columns=['yhat'], inplace=True)\n",
    "df.head()"
   ]
  },
  {
   "cell_type": "code",
   "execution_count": null,
   "id": "3f7cd361-deb6-4ce5-adfb-9995a2b661bc",
   "metadata": {},
   "outputs": [],
   "source": [
    "df['Year'] = pd.to_datetime(df['ds']).dt.year\n",
    "df['Month'] = pd.to_datetime(df['ds']).dt.month\n",
    "df['Day'] = pd.to_datetime(df['ds']).dt.day\n",
    "df['Hour'] = pd.to_datetime(df['ds']).dt.hour\n",
    "df['DayOfWeek'] = pd.to_datetime(df['ds']).dt.dayofweek"
   ]
  },
  {
   "cell_type": "code",
   "execution_count": null,
   "id": "952fc701-2031-42b3-8fd4-187e5f52fbdf",
   "metadata": {},
   "outputs": [],
   "source": [
    "df.head()"
   ]
  },
  {
   "cell_type": "code",
   "execution_count": null,
   "id": "54eb1073-29a0-45e0-9f07-43f58bfe84a3",
   "metadata": {},
   "outputs": [],
   "source": [
    "df_time.head()"
   ]
  },
  {
   "cell_type": "code",
   "execution_count": null,
   "id": "5b2a9812-6249-4000-8ebc-ec3869fe9f03",
   "metadata": {},
   "outputs": [],
   "source": [
    "columns = ['utc_timestamp', 'DE_solar_capacity']\n",
    "\n",
    "df_time = df_time[columns]\n",
    "df_time.head()"
   ]
  },
  {
   "cell_type": "code",
   "execution_count": null,
   "id": "caa3204e-006e-42ef-aac9-58b4c43be7eb",
   "metadata": {},
   "outputs": [],
   "source": [
    "df_time.rename(columns={'utc_timestamp': 'ds'}, inplace=True)\n",
    "df_time['ds'] = pd.to_datetime(df_time['ds']).dt.tz_localize(None)\n",
    "df = pd.merge(df, df_time, on='ds', how='left')\n",
    "df.head()"
   ]
  },
  {
   "cell_type": "code",
   "execution_count": null,
   "id": "71db9cc5-56d4-4d99-a6ea-15ec3b9078f1",
   "metadata": {},
   "outputs": [],
   "source": [
    "# Drop rows where 'y' is NaN\n",
    "df = df.dropna(subset=['y'])"
   ]
  },
  {
   "cell_type": "code",
   "execution_count": null,
   "id": "d54cb895-0ff5-452c-ae3e-ad6c52865282",
   "metadata": {},
   "outputs": [],
   "source": [
    "df.drop(columns=['ds'], inplace=True)"
   ]
  },
  {
   "cell_type": "code",
   "execution_count": null,
   "id": "9fe13d0a-d053-4417-a7f5-ecbe0cddc2ba",
   "metadata": {},
   "outputs": [],
   "source": [
    "df.head()"
   ]
  },
  {
   "cell_type": "code",
   "execution_count": null,
   "id": "e79f466e-4b72-4d87-a282-7457b84187d6",
   "metadata": {},
   "outputs": [],
   "source": [
    "y = df['y']                 # Target variable\n",
    "X = df.drop(columns=['y'])  # Drop the target variable"
   ]
  },
  {
   "cell_type": "code",
   "execution_count": null,
   "id": "a4371c85-2c00-488f-9cdd-8101238742fd",
   "metadata": {},
   "outputs": [],
   "source": [
    "from sklearn.model_selection import train_test_split\n",
    "X_train, X_test, y_train, y_test = train_test_split(X, y, test_size=0.2, random_state=42)\n"
   ]
  },
  {
   "cell_type": "code",
   "execution_count": null,
   "id": "77c73510-627d-4fda-92f8-1cdec2c99a68",
   "metadata": {},
   "outputs": [],
   "source": [
    "print(f\"Training set shape: {X_train.shape}\")\n",
    "print(f\"Test set shape: {X_test.shape}\")"
   ]
  },
  {
   "cell_type": "markdown",
   "id": "3c8c8bfb-f04c-4685-a8cc-cebadf844329",
   "metadata": {},
   "source": [
    "<h2>XGBoost</h2>"
   ]
  },
  {
   "cell_type": "code",
   "execution_count": null,
   "id": "efd329e4-3046-4cbb-b858-06c7aaa66bde",
   "metadata": {},
   "outputs": [],
   "source": [
    "import xgboost as xgb\n",
    "from sklearn.metrics import mean_squared_error\n",
    "\n",
    "# Convert data into DMatrix (optional, but efficient for XGBoost)\n",
    "train_data = xgb.DMatrix(X_train, label=y_train)\n",
    "test_data = xgb.DMatrix(X_test, label=y_test)\n",
    "\n",
    "# Define parameters\n",
    "params = {\n",
    "    'objective': 'reg:squarederror',  # Regression task\n",
    "    'max_depth': 6,\n",
    "    'eta': 0.1,  # Learning rate\n",
    "    'subsample': 0.8,\n",
    "    'colsample_bytree': 0.8,\n",
    "    'seed': 42\n",
    "}\n",
    "\n",
    "# Train model\n",
    "num_round = 100\n",
    "model = xgb.train(params, train_data, num_round)\n",
    "\n",
    "# Predict\n",
    "y_pred = model.predict(test_data)\n",
    "\n",
    "# Evaluate\n",
    "rmse = mean_squared_error(y_test, y_pred, squared=False)\n",
    "print(f\"RMSE: {rmse}\")"
   ]
  },
  {
   "cell_type": "code",
   "execution_count": null,
   "id": "31dcf9b8-cb0c-4c5b-9c93-08572a9da049",
   "metadata": {},
   "outputs": [],
   "source": [
    "import matplotlib.pyplot as plt\n",
    "\n",
    "xgb.plot_importance(model)\n",
    "plt.show()"
   ]
  },
  {
   "cell_type": "markdown",
   "id": "1809f8fe-0d23-44b5-88a6-2527adee24b0",
   "metadata": {},
   "source": [
    "<h2>Random Forest Regressor</h2>"
   ]
  },
  {
   "cell_type": "code",
   "execution_count": null,
   "id": "2fbbd300-e1df-4c6c-832d-d4c1a9a5e8f4",
   "metadata": {},
   "outputs": [],
   "source": [
    "from sklearn.ensemble import RandomForestRegressor\n",
    "from sklearn.metrics import mean_squared_error\n",
    "# Define the model\n",
    "rf_model = RandomForestRegressor(\n",
    "    n_estimators=100,  # Number of trees\n",
    "    max_depth=10,      # Maximum depth of trees\n",
    "    random_state=42,   # Reproducibility\n",
    "    n_jobs=-1          # Parallel processing\n",
    ")\n",
    "\n",
    "# Train the model\n",
    "rf_model.fit(X_train, y_train)\n"
   ]
  },
  {
   "cell_type": "code",
   "execution_count": null,
   "id": "1a04c735-7577-479a-ad70-6c1149163a3d",
   "metadata": {},
   "outputs": [],
   "source": [
    "# Predict on the test set\n",
    "y_pred = rf_model.predict(X_test)\n",
    "\n",
    "# Calculate RMSE\n",
    "rmse = mean_squared_error(y_test, y_pred, squared=False)\n",
    "print(f\"Random Forest RMSE: {rmse}\")\n"
   ]
  },
  {
   "cell_type": "code",
   "execution_count": null,
   "id": "b5f187c2-5a24-4126-9f57-0bf8c7edc039",
   "metadata": {},
   "outputs": [],
   "source": []
  }
 ],
 "metadata": {
  "kernelspec": {
   "display_name": "Python 3 (ipykernel)",
   "language": "python",
   "name": "python3"
  },
  "language_info": {
   "codemirror_mode": {
    "name": "ipython",
    "version": 3
   },
   "file_extension": ".py",
   "mimetype": "text/x-python",
   "name": "python",
   "nbconvert_exporter": "python",
   "pygments_lexer": "ipython3",
   "version": "3.12.5"
  }
 },
 "nbformat": 4,
 "nbformat_minor": 5
}
